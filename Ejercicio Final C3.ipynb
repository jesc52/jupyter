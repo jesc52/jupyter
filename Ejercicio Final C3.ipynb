{
 "cells": [
  {
   "cell_type": "markdown",
   "id": "cb0ade94-9128-4603-a598-db0e8ec92757",
   "metadata": {},
   "source": [
    "Vas a crear un programa que simule un sistema de inventario simple para una tienda. Deberás utilizar variables, tipos de datos, operaciones básicas, listas, tuplas, conjuntos, diccionarios, métodos de cadenas, y operaciones de conjuntos para desarrollar este programa. Aquí están las tareas específicas que debes realizar:\n",
    "\n",
    "Tareas\n",
    "\n",
    "Paso 1: Crea un diccionario que represente el inventario de la tienda. El diccionario debe contener productos como claves y tuplas como valores, donde cada tupla contiene la cantidad de unidades disponibles y el precio por unidad. Por ejemplo:"
   ]
  },
  {
   "cell_type": "code",
   "execution_count": 2,
   "id": "f4bb01f0-e12d-46cc-9a5d-8e3cb1b44786",
   "metadata": {},
   "outputs": [
    {
     "data": {
      "text/plain": [
       "{'Leche': (10, 1.5), 'Cafe': (25, 3.5), 'Harina': (30, 1.1), 'Pan': (15, 1.0)}"
      ]
     },
     "execution_count": 2,
     "metadata": {},
     "output_type": "execute_result"
    }
   ],
   "source": [
    "# Inventario\n",
    "inventario = {\n",
    "    \"Leche\": (10, 1.50),\n",
    "    \"Cafe\": (25, 3.50),\n",
    "    \"Harina\": (30, 1.10),\n",
    "    \"Pan\": (15,1.0),\n",
    "}\n",
    "inventario"
   ]
  },
  {
   "cell_type": "markdown",
   "id": "67ff6985-875d-461f-b8f3-bb4bdb9006a4",
   "metadata": {},
   "source": [
    "Paso 2: Usa la función input() para solicitar al usuario que introduzca el nombre de un producto, la cantidad de unidades vendidas y el precio de venta. Utiliza un metodo string para el input()."
   ]
  },
  {
   "cell_type": "code",
   "execution_count": 5,
   "id": "6bd6be99-af93-42f5-be6a-4be7efcd2b89",
   "metadata": {},
   "outputs": [
    {
     "name": "stdin",
     "output_type": "stream",
     "text": [
      "Escriba el producto Leche\n",
      "Escriba la cantidad 2\n",
      "escriba el precio 1.5\n"
     ]
    }
   ],
   "source": [
    "producto=str(input(\"Escriba el producto\"))\n",
    "cantidad=int(input(\"Escriba la cantidad\"))\n",
    "precio=float(input(\"escriba el precio\"))"
   ]
  },
  {
   "cell_type": "code",
   "execution_count": null,
   "id": "5b34848d-e34c-4ddd-8460-8ea2d1e2a1ea",
   "metadata": {},
   "outputs": [],
   "source": []
  }
 ],
 "metadata": {
  "kernelspec": {
   "display_name": "Python 3 (ipykernel)",
   "language": "python",
   "name": "python3"
  },
  "language_info": {
   "codemirror_mode": {
    "name": "ipython",
    "version": 3
   },
   "file_extension": ".py",
   "mimetype": "text/x-python",
   "name": "python",
   "nbconvert_exporter": "python",
   "pygments_lexer": "ipython3",
   "version": "3.10.12"
  }
 },
 "nbformat": 4,
 "nbformat_minor": 5
}
