{
 "cells": [
  {
   "cell_type": "code",
   "execution_count": 1,
   "id": "7e162196-9c0b-4b4c-ace0-1c2a011b9ef2",
   "metadata": {},
   "outputs": [
    {
     "name": "stdout",
     "output_type": "stream",
     "text": [
      "Hola Mundo\n"
     ]
    }
   ],
   "source": [
    "print (\"Hola Mundo\")"
   ]
  },
  {
   "cell_type": "code",
   "execution_count": 2,
   "id": "fef0e48c-6f8c-4594-92ff-7701710422e4",
   "metadata": {},
   "outputs": [
    {
     "name": "stdout",
     "output_type": "stream",
     "text": [
      "Segunda linea\n"
     ]
    }
   ],
   "source": [
    "print (\"Segunda linea\")"
   ]
  },
  {
   "cell_type": "markdown",
   "id": "01d9907e-3836-4a0b-b894-56d3e3fe4404",
   "metadata": {},
   "source": [
    "# Encabezado 1\n",
    "## Encabezado 2\n",
    "### Encabezado 3\n",
    "#### Encabezado 4\n",
    "\n",
    "**negrita**\n",
    "\n",
    "*cursiva*\n",
    "\n",
    "una línea vacía es un párrafo\n",
    "\n",
    "esto es un nuevo párrafo"
   ]
  },
  {
   "cell_type": "markdown",
   "id": "bd7ea50f-25b8-41fa-8488-6e7d7f28941c",
   "metadata": {},
   "source": [
    "[Esto es google](www.google.es)"
   ]
  },
  {
   "cell_type": "markdown",
   "id": "182da4dc-618e-433e-b67d-343add8e589d",
   "metadata": {},
   "source": [
    "![Esto es una imagen](https://seeklogo.com/images/I/ironhack-logo-F751CF4738-seeklogo.com.png)"
   ]
  },
  {
   "cell_type": "code",
   "execution_count": 5,
   "id": "fc2e77e3-d66c-4ed8-a240-4e89c81aa3fb",
   "metadata": {},
   "outputs": [],
   "source": [
    "import this"
   ]
  },
  {
   "cell_type": "code",
   "execution_count": 6,
   "id": "dbcf41dc-2884-4f7d-9df2-6547f248ceab",
   "metadata": {},
   "outputs": [
    {
     "data": {
      "text/plain": [
       "'Hola'"
      ]
     },
     "execution_count": 6,
     "metadata": {},
     "output_type": "execute_result"
    }
   ],
   "source": [
    "'Hola'"
   ]
  },
  {
   "cell_type": "markdown",
   "id": "0a911f0f-f063-4675-a409-511fd8a34f69",
   "metadata": {},
   "source": [
    "\"Hola hola\""
   ]
  },
  {
   "cell_type": "code",
   "execution_count": 7,
   "id": "a8b4b754-1095-428d-b27f-3f32025088d0",
   "metadata": {},
   "outputs": [],
   "source": [
    "un_entero = 4"
   ]
  },
  {
   "cell_type": "code",
   "execution_count": 8,
   "id": "26257c30-4bb3-46a6-b1aa-998e1de5a76c",
   "metadata": {},
   "outputs": [
    {
     "name": "stdout",
     "output_type": "stream",
     "text": [
      "4\n"
     ]
    }
   ],
   "source": [
    "print(un_entero)"
   ]
  },
  {
   "cell_type": "code",
   "execution_count": 9,
   "id": "40d5d9bd-7e75-4d16-af3a-f947b059e26f",
   "metadata": {},
   "outputs": [],
   "source": [
    "a=10"
   ]
  },
  {
   "cell_type": "code",
   "execution_count": 11,
   "id": "29f78532-0627-49e8-b2b7-95c7ffae4aa0",
   "metadata": {},
   "outputs": [],
   "source": [
    "b=20"
   ]
  },
  {
   "cell_type": "code",
   "execution_count": 12,
   "id": "928c03f2-c0fb-49a8-ba1e-49ab70d1a5f1",
   "metadata": {},
   "outputs": [
    {
     "data": {
      "text/plain": [
       "10"
      ]
     },
     "execution_count": 12,
     "metadata": {},
     "output_type": "execute_result"
    }
   ],
   "source": [
    "a"
   ]
  },
  {
   "cell_type": "code",
   "execution_count": 13,
   "id": "c61c2064-79f9-4b76-a01f-6ad8f09d7273",
   "metadata": {},
   "outputs": [
    {
     "data": {
      "text/plain": [
       "20"
      ]
     },
     "execution_count": 13,
     "metadata": {},
     "output_type": "execute_result"
    }
   ],
   "source": [
    "b"
   ]
  },
  {
   "cell_type": "code",
   "execution_count": 14,
   "id": "69ce4c0e-bd84-49d3-9deb-2a15040e5b4a",
   "metadata": {},
   "outputs": [
    {
     "data": {
      "text/plain": [
       "30"
      ]
     },
     "execution_count": 14,
     "metadata": {},
     "output_type": "execute_result"
    }
   ],
   "source": [
    "a+b"
   ]
  },
  {
   "cell_type": "code",
   "execution_count": 15,
   "id": "c2d437c4-c1b0-4f7a-ab93-d5e3785d8841",
   "metadata": {},
   "outputs": [
    {
     "data": {
      "text/plain": [
       "int"
      ]
     },
     "execution_count": 15,
     "metadata": {},
     "output_type": "execute_result"
    }
   ],
   "source": [
    "type(a)"
   ]
  },
  {
   "cell_type": "code",
   "execution_count": 16,
   "id": "6cc82d01-5e3c-4bc9-9bf8-5cb97a6a780d",
   "metadata": {},
   "outputs": [],
   "source": [
    "x=5.67"
   ]
  },
  {
   "cell_type": "code",
   "execution_count": 17,
   "id": "839c70dd-2392-4dd5-976b-8994d5839144",
   "metadata": {},
   "outputs": [],
   "source": [
    "y=-0.23"
   ]
  },
  {
   "cell_type": "code",
   "execution_count": 18,
   "id": "9ce8360d-01f2-4c1f-84ce-9bb9212836e4",
   "metadata": {},
   "outputs": [],
   "source": [
    "z=3.0e8"
   ]
  },
  {
   "cell_type": "code",
   "execution_count": 19,
   "id": "69bab621-5ebc-4249-8f32-51707153fc33",
   "metadata": {},
   "outputs": [
    {
     "data": {
      "text/plain": [
       "1701000000.0"
      ]
     },
     "execution_count": 19,
     "metadata": {},
     "output_type": "execute_result"
    }
   ],
   "source": [
    "x*z"
   ]
  },
  {
   "cell_type": "code",
   "execution_count": 20,
   "id": "713987c7-e2d9-4df5-a1cb-b6eafdb633b7",
   "metadata": {},
   "outputs": [
    {
     "data": {
      "text/plain": [
       "float"
      ]
     },
     "execution_count": 20,
     "metadata": {},
     "output_type": "execute_result"
    }
   ],
   "source": [
    "type(x)"
   ]
  },
  {
   "cell_type": "code",
   "execution_count": 21,
   "id": "f24faa3d-4952-4abd-b501-6f18dacbfc7c",
   "metadata": {},
   "outputs": [],
   "source": [
    "h=\"hola mundo\""
   ]
  },
  {
   "cell_type": "code",
   "execution_count": 23,
   "id": "72b7d485-210d-42c9-ab3f-829809779282",
   "metadata": {},
   "outputs": [
    {
     "data": {
      "text/plain": [
       "'HOLA MUNDO'"
      ]
     },
     "execution_count": 23,
     "metadata": {},
     "output_type": "execute_result"
    }
   ],
   "source": [
    "h.upper()"
   ]
  },
  {
   "cell_type": "code",
   "execution_count": 24,
   "id": "7ae3f493-5b7b-4cf0-856a-76d64079cccc",
   "metadata": {},
   "outputs": [],
   "source": [
    "import math"
   ]
  },
  {
   "cell_type": "code",
   "execution_count": 25,
   "id": "c273840b-e09b-4fbd-974c-c05e978e6e80",
   "metadata": {},
   "outputs": [],
   "source": [
    "x=3"
   ]
  },
  {
   "cell_type": "code",
   "execution_count": 26,
   "id": "cfecaa01-d6ea-4b96-89ba-6fe8804d0633",
   "metadata": {},
   "outputs": [
    {
     "data": {
      "text/plain": [
       "3"
      ]
     },
     "execution_count": 26,
     "metadata": {},
     "output_type": "execute_result"
    }
   ],
   "source": [
    "x"
   ]
  },
  {
   "cell_type": "code",
   "execution_count": 28,
   "id": "f154def0-2a61-412c-b67a-d48091be8d16",
   "metadata": {},
   "outputs": [],
   "source": [
    "x=5//3"
   ]
  },
  {
   "cell_type": "code",
   "execution_count": 29,
   "id": "96e73b05-6fcf-4c29-b7c5-97bbec26331b",
   "metadata": {},
   "outputs": [
    {
     "data": {
      "text/plain": [
       "int"
      ]
     },
     "execution_count": 29,
     "metadata": {},
     "output_type": "execute_result"
    }
   ],
   "source": [
    "type(x)"
   ]
  },
  {
   "cell_type": "code",
   "execution_count": 35,
   "id": "24433d89-3582-45a4-a417-7245252fc499",
   "metadata": {},
   "outputs": [
    {
     "name": "stdout",
     "output_type": "stream",
     "text": [
      "El numero 0 es par\n",
      "El numero 1 NO es par\n",
      "El numero 2 es par\n",
      "El numero 3 NO es par\n",
      "El numero 4 es par\n",
      "El numero 5 NO es par\n",
      "El numero 6 es par\n",
      "El numero 7 NO es par\n",
      "El numero 8 es par\n",
      "El numero 9 NO es par\n",
      "El numero 10 es par\n"
     ]
    }
   ],
   "source": [
    "for i in range(0,11):\n",
    "    if i % 2 == 0:\n",
    "        print(f\"El numero {i} es par\")\n",
    "    else:\n",
    "        print(f\"El numero {i} NO es par\")"
   ]
  },
  {
   "cell_type": "code",
   "execution_count": 36,
   "id": "611b6441-d6b3-4779-afc4-7e3982c7a1a2",
   "metadata": {},
   "outputs": [],
   "source": [
    "a= 5.6\n",
    "b=6"
   ]
  },
  {
   "cell_type": "code",
   "execution_count": 37,
   "id": "7c653b7b-fe33-4f74-8646-8a130cc22a4b",
   "metadata": {},
   "outputs": [
    {
     "data": {
      "text/plain": [
       "5.6"
      ]
     },
     "execution_count": 37,
     "metadata": {},
     "output_type": "execute_result"
    }
   ],
   "source": [
    "a"
   ]
  },
  {
   "cell_type": "code",
   "execution_count": 38,
   "id": "96ccec61-2e80-4300-8316-900b73b8e349",
   "metadata": {},
   "outputs": [],
   "source": [
    "a=int(a)"
   ]
  },
  {
   "cell_type": "code",
   "execution_count": 39,
   "id": "8ffe0154-597f-400a-9a40-5a7b3d5cd80d",
   "metadata": {},
   "outputs": [
    {
     "data": {
      "text/plain": [
       "5"
      ]
     },
     "execution_count": 39,
     "metadata": {},
     "output_type": "execute_result"
    }
   ],
   "source": [
    "a"
   ]
  },
  {
   "cell_type": "code",
   "execution_count": null,
   "id": "d734f875-db1a-47dc-bca9-9525fe1e1370",
   "metadata": {},
   "outputs": [],
   "source": []
  },
  {
   "cell_type": "code",
   "execution_count": 41,
   "id": "0bb98065-ebbd-46db-b7bf-e270684b7a36",
   "metadata": {},
   "outputs": [],
   "source": [
    "b=float(b)"
   ]
  },
  {
   "cell_type": "code",
   "execution_count": 42,
   "id": "6934bf39-5775-4fc4-925a-cd5da2a28d3b",
   "metadata": {},
   "outputs": [
    {
     "name": "stdout",
     "output_type": "stream",
     "text": [
      "6.0\n"
     ]
    }
   ],
   "source": [
    "print(b)"
   ]
  },
  {
   "cell_type": "code",
   "execution_count": 43,
   "id": "f8ec2644-967f-49c6-8bf2-e97a688da1ea",
   "metadata": {},
   "outputs": [
    {
     "name": "stdout",
     "output_type": "stream",
     "text": [
      "<class 'float'>\n"
     ]
    }
   ],
   "source": [
    "print(type(b))"
   ]
  },
  {
   "cell_type": "code",
   "execution_count": 44,
   "id": "f9ffb0ab-6cc3-4212-83d0-3c594664c82c",
   "metadata": {},
   "outputs": [
    {
     "data": {
      "text/plain": [
       "float"
      ]
     },
     "execution_count": 44,
     "metadata": {},
     "output_type": "execute_result"
    }
   ],
   "source": [
    "type(b)"
   ]
  },
  {
   "cell_type": "markdown",
   "id": "7512fd8d-43e9-47fb-bbb9-1c7229f2680b",
   "metadata": {},
   "source": [
    "#### Ejercicio \n",
    "\n",
    "Ahora es tu turno de probar la conversión de int a str. Realiza las siguientes tareas:\n",
    "\n",
    "1. Crea una variable edad y asígnale tu edad como un entero.\n",
    "2. Convierte la variable edad a un string utilizando la función str(). \n",
    "3. Concatena la cadena \"Mi edad es: \" con la variable edad (ahora una cadena) y almacena el resultado en una nueva variable llamada mensaje.\n",
    "4. Imprime la variable mensaje en la consola."
   ]
  },
  {
   "cell_type": "code",
   "execution_count": null,
   "id": "4f5b00f9-242f-45f5-844c-c92cec2d27b9",
   "metadata": {},
   "outputs": [],
   "source": []
  }
 ],
 "metadata": {
  "kernelspec": {
   "display_name": "Python 3 (ipykernel)",
   "language": "python",
   "name": "python3"
  },
  "language_info": {
   "codemirror_mode": {
    "name": "ipython",
    "version": 3
   },
   "file_extension": ".py",
   "mimetype": "text/x-python",
   "name": "python",
   "nbconvert_exporter": "python",
   "pygments_lexer": "ipython3",
   "version": "3.10.12"
  }
 },
 "nbformat": 4,
 "nbformat_minor": 5
}
