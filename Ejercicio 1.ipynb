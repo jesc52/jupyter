{
 "cells": [
  {
   "cell_type": "markdown",
   "id": "bbecd5a4-7e87-4b87-8523-af07cf3590ba",
   "metadata": {},
   "source": [
    "#### Ejercicio \n",
    "\n",
    "Ahora es tu turno de probar la conversión de int a str. Realiza las siguientes tareas:\n",
    "\n",
    "1. Crea una variable 'edad' y asígnale tu edad como un entero.\n",
    "2. Convierte la variable edad a un string utilizando la función str(). \n",
    "3. Concatena la cadena \"Mi edad es: \" con la variable edad (ahora una cadena) y almacena el resultado en una nueva variable llamada mensaje.\n",
    "4. Imprime la variable mensaje en la consola."
   ]
  },
  {
   "cell_type": "code",
   "execution_count": 13,
   "id": "b33cbede-daca-4611-9d93-a7fa82523b87",
   "metadata": {},
   "outputs": [
    {
     "name": "stdin",
     "output_type": "stream",
     "text": [
      " Hola!\n"
     ]
    }
   ],
   "source": [
    "saludo=input()"
   ]
  },
  {
   "cell_type": "code",
   "execution_count": 14,
   "id": "f1178da5-3b39-4358-b3e7-bfc24521054c",
   "metadata": {},
   "outputs": [
    {
     "name": "stdin",
     "output_type": "stream",
     "text": [
      "Introduce tu edad:   38\n"
     ]
    }
   ],
   "source": [
    "edad=int(input(\"Introduce tu edad:  \"))"
   ]
  },
  {
   "cell_type": "code",
   "execution_count": 4,
   "id": "565a7631-cb26-46a5-bef4-28f8dc7db1d0",
   "metadata": {},
   "outputs": [
    {
     "data": {
      "text/plain": [
       "38"
      ]
     },
     "execution_count": 4,
     "metadata": {},
     "output_type": "execute_result"
    }
   ],
   "source": [
    "edad"
   ]
  },
  {
   "cell_type": "code",
   "execution_count": 5,
   "id": "f036c943-baff-4537-9e80-08332f7da13f",
   "metadata": {},
   "outputs": [
    {
     "data": {
      "text/plain": [
       "int"
      ]
     },
     "execution_count": 5,
     "metadata": {},
     "output_type": "execute_result"
    }
   ],
   "source": [
    "type(edad)"
   ]
  },
  {
   "cell_type": "code",
   "execution_count": 6,
   "id": "20eef8cc-524b-40f6-9c28-a22ae3b16834",
   "metadata": {},
   "outputs": [
    {
     "data": {
      "text/plain": [
       "'Hola!'"
      ]
     },
     "execution_count": 6,
     "metadata": {},
     "output_type": "execute_result"
    }
   ],
   "source": [
    "saludo"
   ]
  },
  {
   "cell_type": "code",
   "execution_count": 7,
   "id": "1a085774-ffeb-48c9-9bfb-e22ebb2931bd",
   "metadata": {},
   "outputs": [
    {
     "data": {
      "text/plain": [
       "'Hola!Hola!'"
      ]
     },
     "execution_count": 7,
     "metadata": {},
     "output_type": "execute_result"
    }
   ],
   "source": [
    "saludo*2"
   ]
  },
  {
   "cell_type": "code",
   "execution_count": 8,
   "id": "ab49627b-1eca-4294-938f-289faecc1820",
   "metadata": {},
   "outputs": [
    {
     "data": {
      "text/plain": [
       "'Hola! Hola!'"
      ]
     },
     "execution_count": 8,
     "metadata": {},
     "output_type": "execute_result"
    }
   ],
   "source": [
    "saludo +\" \"+saludo"
   ]
  },
  {
   "cell_type": "code",
   "execution_count": 9,
   "id": "13b55318-9127-4f0f-b842-c4552d325b01",
   "metadata": {},
   "outputs": [],
   "source": [
    "edad=str(edad)"
   ]
  },
  {
   "cell_type": "code",
   "execution_count": 10,
   "id": "245b5745-0ab8-4abb-87b7-cc0222c1a98b",
   "metadata": {},
   "outputs": [
    {
     "data": {
      "text/plain": [
       "'38'"
      ]
     },
     "execution_count": 10,
     "metadata": {},
     "output_type": "execute_result"
    }
   ],
   "source": [
    "edad"
   ]
  },
  {
   "cell_type": "code",
   "execution_count": 11,
   "id": "3f73f035-9c7b-4eda-95d3-b713f19b40ca",
   "metadata": {},
   "outputs": [],
   "source": [
    "mensaje= \"Mi edad es\"+\" \"+edad"
   ]
  },
  {
   "cell_type": "code",
   "execution_count": 12,
   "id": "a4e9925e-bb14-430d-bfed-b75f36a8f8c4",
   "metadata": {},
   "outputs": [
    {
     "name": "stdout",
     "output_type": "stream",
     "text": [
      "Mi edad es 38\n"
     ]
    }
   ],
   "source": [
    "print(mensaje)"
   ]
  },
  {
   "cell_type": "code",
   "execution_count": null,
   "id": "ed2790f9-ae5b-4ff2-b0b3-8aece991abb1",
   "metadata": {},
   "outputs": [],
   "source": []
  }
 ],
 "metadata": {
  "kernelspec": {
   "display_name": "Python 3 (ipykernel)",
   "language": "python",
   "name": "python3"
  },
  "language_info": {
   "codemirror_mode": {
    "name": "ipython",
    "version": 3
   },
   "file_extension": ".py",
   "mimetype": "text/x-python",
   "name": "python",
   "nbconvert_exporter": "python",
   "pygments_lexer": "ipython3",
   "version": "3.10.12"
  }
 },
 "nbformat": 4,
 "nbformat_minor": 5
}
