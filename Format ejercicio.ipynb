{
 "cells": [
  {
   "cell_type": "markdown",
   "id": "a620453a-6337-49ab-b16e-974625a112d6",
   "metadata": {},
   "source": [
    "#### Ejercicio\n",
    "\n",
    "Ahora que hemos aprendido varias formas de formatear strings en Python, es momento de poner en práctica lo aprendido. En este ejercicio, te pediremos que utilices la función input() para solicitar cierta información al usuario y luego formatea esa información utilizando al menos dos de los métodos que hemos discutido anteriormente (concatenación con '+', usando comas, f-strings o el método .format()).\n",
    "\n",
    "Instrucciones:\n",
    "\n",
    "1. Pide al usuario que ingrese su nombre y su edad utilizando la función input().\n",
    "2. Crea un mensaje de saludo que incluya el nombre y la edad del usuario, utilizando dos métodos diferentes de formateo de strings.\n",
    "3. Imprime ambos mensajes en la consola para verificar tu trabajo."
   ]
  },
  {
   "cell_type": "code",
   "execution_count": 15,
   "id": "b22a38ce-f174-416e-a80a-b0b78f557de3",
   "metadata": {},
   "outputs": [
    {
     "name": "stdin",
     "output_type": "stream",
     "text": [
      " Cual es tu nombre:   Jhonny\n",
      " ¿Cuantos años tienes? 20\n"
     ]
    },
    {
     "data": {
      "text/plain": [
       "'Hola Jhonny, tu edad es 20 años? No lo se rick..'"
      ]
     },
     "execution_count": 15,
     "metadata": {},
     "output_type": "execute_result"
    }
   ],
   "source": [
    "# Format f-string\n",
    "nombre= str(input(\" Cual es tu nombre:  \"))\n",
    "edad=int(input(\" ¿Cuantos años tienes?\"))\n",
    "mensaje =f\"Hola {nombre}, tu edad es {edad} años? No lo se rick..\"\n",
    "mensaje"
   ]
  },
  {
   "cell_type": "code",
   "execution_count": 13,
   "id": "db7fbe9f-fc0f-44d4-a966-c4f0403555a3",
   "metadata": {},
   "outputs": [
    {
     "name": "stdin",
     "output_type": "stream",
     "text": [
      " Cual es tu nombre:   Jhonny\n",
      " ¿Cuantos años tienes? 38\n"
     ]
    },
    {
     "data": {
      "text/plain": [
       "'Hola Jhonny, ya se que tienes 38 años'"
      ]
     },
     "execution_count": 13,
     "metadata": {},
     "output_type": "execute_result"
    }
   ],
   "source": [
    "# Format .format\n",
    "nombre= str(input(\" Cual es tu nombre:  \"))\n",
    "edad=int(input(\" ¿Cuantos años tienes?\"))\n",
    "mensaje =\"Hola {}, ya se que tienes {} años\".format(nombre, edad)\n",
    "mensaje"
   ]
  },
  {
   "cell_type": "code",
   "execution_count": 8,
   "id": "572f25b7-c081-4cb5-a360-2b340cb4eced",
   "metadata": {},
   "outputs": [
    {
     "data": {
      "text/plain": [
       "str"
      ]
     },
     "execution_count": 8,
     "metadata": {},
     "output_type": "execute_result"
    }
   ],
   "source": [
    "type(mensaje)"
   ]
  },
  {
   "cell_type": "code",
   "execution_count": 12,
   "id": "411d4a05-3efa-466d-85c1-c2d531e5140f",
   "metadata": {},
   "outputs": [
    {
     "data": {
      "text/plain": [
       "'HOLA YUMMY, YA SE QUE TIENES 20 AÑOS'"
      ]
     },
     "execution_count": 12,
     "metadata": {},
     "output_type": "execute_result"
    }
   ],
   "source": [
    "mensaje.upper()"
   ]
  },
  {
   "cell_type": "code",
   "execution_count": 17,
   "id": "e7604f04-5b74-4a1c-b612-b240ec2ed335",
   "metadata": {},
   "outputs": [
    {
     "data": {
      "text/plain": [
       "'Hola jhonny, tu edad es 20 años? no lo se rick..'"
      ]
     },
     "execution_count": 17,
     "metadata": {},
     "output_type": "execute_result"
    }
   ],
   "source": [
    "mensaje.lower().capitalize()"
   ]
  },
  {
   "cell_type": "code",
   "execution_count": 20,
   "id": "c9d57b24-fb20-4575-a837-a8a406ed197b",
   "metadata": {},
   "outputs": [],
   "source": [
    "list_=['Hola',' ','Mundo']"
   ]
  },
  {
   "cell_type": "code",
   "execution_count": 30,
   "id": "b32fdb14-6ef0-4f2e-841c-be95839b6fa2",
   "metadata": {},
   "outputs": [],
   "source": [
    "x=\" Test \".join(list_)"
   ]
  },
  {
   "cell_type": "code",
   "execution_count": 31,
   "id": "e07b1fa8-476d-429a-8ce1-bbb29e8d3b2b",
   "metadata": {},
   "outputs": [
    {
     "data": {
      "text/plain": [
       "'Hola Test   Test Mundo'"
      ]
     },
     "execution_count": 31,
     "metadata": {},
     "output_type": "execute_result"
    }
   ],
   "source": [
    "x"
   ]
  },
  {
   "cell_type": "code",
   "execution_count": 32,
   "id": "1d329a97-25b5-4cba-b35b-bc8e6f5de2b1",
   "metadata": {},
   "outputs": [
    {
     "data": {
      "text/plain": [
       "['Hola',\n",
       " 'Jhonny,',\n",
       " 'tu',\n",
       " 'edad',\n",
       " 'es',\n",
       " '20',\n",
       " 'años?',\n",
       " 'No',\n",
       " 'lo',\n",
       " 'se',\n",
       " 'rick..']"
      ]
     },
     "execution_count": 32,
     "metadata": {},
     "output_type": "execute_result"
    }
   ],
   "source": [
    "mensaje.split(\" \")"
   ]
  },
  {
   "cell_type": "code",
   "execution_count": 33,
   "id": "477059f5-27d6-424e-8a21-483e0c87e42c",
   "metadata": {},
   "outputs": [
    {
     "ename": "NameError",
     "evalue": "name 'a' is not defined",
     "output_type": "error",
     "traceback": [
      "\u001b[0;31m---------------------------------------------------------------------------\u001b[0m",
      "\u001b[0;31mNameError\u001b[0m                                 Traceback (most recent call last)",
      "Cell \u001b[0;32mIn[33], line 1\u001b[0m\n\u001b[0;32m----> 1\u001b[0m x\u001b[38;5;241m=\u001b[39m(\u001b[43ma\u001b[49m,b,c)\n",
      "\u001b[0;31mNameError\u001b[0m: name 'a' is not defined"
     ]
    }
   ],
   "source": [
    "x=(a,b,c)"
   ]
  },
  {
   "cell_type": "code",
   "execution_count": 34,
   "id": "e2ebdd2c-05ac-41f2-99e6-138d24e028de",
   "metadata": {},
   "outputs": [],
   "source": [
    "a=5\n",
    "b=4.5\n",
    "c=9.5"
   ]
  },
  {
   "cell_type": "code",
   "execution_count": 35,
   "id": "ebcf986c-7111-4dea-bf65-c605afc8e3c1",
   "metadata": {},
   "outputs": [],
   "source": [
    "x=(a,b,c)"
   ]
  },
  {
   "cell_type": "code",
   "execution_count": 36,
   "id": "b2ce3108-07c3-4cac-bff3-8892283c36bf",
   "metadata": {},
   "outputs": [
    {
     "data": {
      "text/plain": [
       "tuple"
      ]
     },
     "execution_count": 36,
     "metadata": {},
     "output_type": "execute_result"
    }
   ],
   "source": [
    "type(x)"
   ]
  },
  {
   "cell_type": "code",
   "execution_count": 37,
   "id": "9cf052d6-27a7-417d-aae3-2000117dd0b4",
   "metadata": {},
   "outputs": [
    {
     "data": {
      "text/plain": [
       "9.5"
      ]
     },
     "execution_count": 37,
     "metadata": {},
     "output_type": "execute_result"
    }
   ],
   "source": [
    "x[2]"
   ]
  },
  {
   "cell_type": "code",
   "execution_count": 38,
   "id": "9e21483d-ec3f-4e7f-b680-54ad49fb06ae",
   "metadata": {},
   "outputs": [
    {
     "data": {
      "text/plain": [
       "5"
      ]
     },
     "execution_count": 38,
     "metadata": {},
     "output_type": "execute_result"
    }
   ],
   "source": [
    "x[0]"
   ]
  },
  {
   "cell_type": "code",
   "execution_count": 39,
   "id": "4b595deb-156d-4349-bd80-3e227fdb727d",
   "metadata": {},
   "outputs": [
    {
     "data": {
      "text/plain": [
       "4.5"
      ]
     },
     "execution_count": 39,
     "metadata": {},
     "output_type": "execute_result"
    }
   ],
   "source": [
    "x[1]"
   ]
  },
  {
   "cell_type": "code",
   "execution_count": 40,
   "id": "9260f812-77f3-43d7-a52a-7732f216102f",
   "metadata": {},
   "outputs": [],
   "source": [
    "nombres=[\"Ana\", \"Beto\", \"Carla\", \"David\", \"Elena\", \"Fernando\"]"
   ]
  },
  {
   "cell_type": "code",
   "execution_count": 41,
   "id": "ad4cd514-1609-4cfb-b3b5-dad209fd95a2",
   "metadata": {},
   "outputs": [
    {
     "name": "stdout",
     "output_type": "stream",
     "text": [
      "['Ana', 'Beto', 'Carla', 'David', 'Elena', 'Fernando']\n"
     ]
    }
   ],
   "source": [
    "print(nombres)"
   ]
  },
  {
   "cell_type": "code",
   "execution_count": 45,
   "id": "8df6de59-845b-4307-acf7-8df1dbb41f67",
   "metadata": {},
   "outputs": [
    {
     "name": "stdout",
     "output_type": "stream",
     "text": [
      "Carla\n"
     ]
    }
   ],
   "source": [
    "print(nombres[2])"
   ]
  },
  {
   "cell_type": "code",
   "execution_count": 46,
   "id": "318080c4-bd2b-4eeb-ba1d-db6ea860c3de",
   "metadata": {},
   "outputs": [],
   "source": [
    "mi_tupla=(1,2,3,\"Hola\", True)"
   ]
  },
  {
   "cell_type": "code",
   "execution_count": 47,
   "id": "7afb757d-b4f1-47f6-b84c-a569c95002a6",
   "metadata": {},
   "outputs": [
    {
     "data": {
      "text/plain": [
       "True"
      ]
     },
     "execution_count": 47,
     "metadata": {},
     "output_type": "execute_result"
    }
   ],
   "source": [
    "mi_tupla[-1]"
   ]
  },
  {
   "cell_type": "code",
   "execution_count": 48,
   "id": "6ca45503-16e5-439e-807c-7efe086ef361",
   "metadata": {},
   "outputs": [
    {
     "data": {
      "text/plain": [
       "3"
      ]
     },
     "execution_count": 48,
     "metadata": {},
     "output_type": "execute_result"
    }
   ],
   "source": [
    "mi_tupla.index(\"Hola\")"
   ]
  },
  {
   "cell_type": "code",
   "execution_count": 49,
   "id": "ed3a2d23-ef57-4bcb-8404-d3a9feadd526",
   "metadata": {},
   "outputs": [
    {
     "name": "stdout",
     "output_type": "stream",
     "text": [
      "Error: 'tuple' object does not support item assignment\n",
      "(1, 2, 3, 'Hola', True)\n"
     ]
    }
   ],
   "source": [
    "# Intentando modificar un elemento de la tupla (esto generará un error, porque las tuplas son inmutables)\n",
    "try:\n",
    "    mi_tupla[1] = 10\n",
    "except TypeError as e:\n",
    "    print(f\"Error: {e}\")\n",
    "\n",
    "# Mostrando que la tupla no ha cambiado\n",
    "print(mi_tupla)"
   ]
  },
  {
   "cell_type": "code",
   "execution_count": 52,
   "id": "67d24877-8e3e-4a0a-a89e-199fe1ec509a",
   "metadata": {},
   "outputs": [
    {
     "name": "stdout",
     "output_type": "stream",
     "text": [
      "['A']\n"
     ]
    }
   ],
   "source": [
    "# 1. append()\n",
    "lista = []\n",
    "lista.append('A')\n",
    "print(lista) "
   ]
  },
  {
   "cell_type": "code",
   "execution_count": 53,
   "id": "779e39de-7f4c-4763-944c-5e89e0bcb823",
   "metadata": {},
   "outputs": [
    {
     "name": "stdout",
     "output_type": "stream",
     "text": [
      "[1, 2, 3, 4, 5, 6]\n"
     ]
    }
   ],
   "source": [
    "# 2. extend()\n",
    "lista1 = [1, 2, 3]\n",
    "lista2 = [4, 5, 6]\n",
    "lista1.extend(lista2)\n",
    "print(lista1)"
   ]
  },
  {
   "cell_type": "code",
   "execution_count": 54,
   "id": "34e2735d-995f-4c1e-a333-daad444b0eaa",
   "metadata": {},
   "outputs": [
    {
     "name": "stdout",
     "output_type": "stream",
     "text": [
      "[1, 'B', 2, 3]\n"
     ]
    }
   ],
   "source": [
    "# 3. insert()\n",
    "lista = [1, 2, 3]\n",
    "lista.insert(1, 'B')\n",
    "print(lista)"
   ]
  },
  {
   "cell_type": "code",
   "execution_count": 57,
   "id": "5c5c297f-2f04-4e1a-8917-3689ceccd1d8",
   "metadata": {},
   "outputs": [
    {
     "name": "stdout",
     "output_type": "stream",
     "text": [
      "[1, 3, 2]\n"
     ]
    }
   ],
   "source": [
    "# 4. remove()\n",
    "lista = [1, 'a', 3, 2]\n",
    "lista.remove('a')\n",
    "print(lista) "
   ]
  },
  {
   "cell_type": "code",
   "execution_count": 58,
   "id": "038972a3-de55-42b3-bb36-e9423d17e1ad",
   "metadata": {},
   "outputs": [
    {
     "name": "stdout",
     "output_type": "stream",
     "text": [
      "[1, 2]\n"
     ]
    }
   ],
   "source": [
    "# 5. pop()\n",
    "lista = [1, 2, 3]\n",
    "lista.pop(2)\n",
    "print(lista)"
   ]
  },
  {
   "cell_type": "code",
   "execution_count": 59,
   "id": "d48a1ae0-1d25-415c-bd9e-d7d8b59c3a40",
   "metadata": {},
   "outputs": [],
   "source": [
    "# 3. insert()\n",
    "lista = [1, 2, 3]\n"
   ]
  },
  {
   "cell_type": "code",
   "execution_count": 60,
   "id": "16d6c6ae-f9b7-4e00-9205-07059aa566ed",
   "metadata": {},
   "outputs": [
    {
     "name": "stdout",
     "output_type": "stream",
     "text": [
      "[1, 2, 'B', 3]\n"
     ]
    }
   ],
   "source": [
    "lista.insert(2, 'B')\n",
    "print(lista)"
   ]
  },
  {
   "cell_type": "code",
   "execution_count": 61,
   "id": "9a2efb64-cbae-433b-99dd-d5ce1fa9a050",
   "metadata": {},
   "outputs": [],
   "source": [
    "lista.clear()"
   ]
  },
  {
   "cell_type": "code",
   "execution_count": 62,
   "id": "e3776625-43e5-4974-a956-6b898b118e04",
   "metadata": {},
   "outputs": [
    {
     "data": {
      "text/plain": [
       "[]"
      ]
     },
     "execution_count": 62,
     "metadata": {},
     "output_type": "execute_result"
    }
   ],
   "source": [
    "lista"
   ]
  },
  {
   "cell_type": "code",
   "execution_count": 63,
   "id": "c1b751a3-282e-476f-b8a7-401a4c4fa38c",
   "metadata": {},
   "outputs": [
    {
     "ename": "TypeError",
     "evalue": "list.count() takes exactly one argument (0 given)",
     "output_type": "error",
     "traceback": [
      "\u001b[0;31m---------------------------------------------------------------------------\u001b[0m",
      "\u001b[0;31mTypeError\u001b[0m                                 Traceback (most recent call last)",
      "Cell \u001b[0;32mIn[63], line 1\u001b[0m\n\u001b[0;32m----> 1\u001b[0m \u001b[43mlista\u001b[49m\u001b[38;5;241;43m.\u001b[39;49m\u001b[43mcount\u001b[49m\u001b[43m(\u001b[49m\u001b[43m)\u001b[49m\n",
      "\u001b[0;31mTypeError\u001b[0m: list.count() takes exactly one argument (0 given)"
     ]
    }
   ],
   "source": [
    "lista.count()"
   ]
  },
  {
   "cell_type": "code",
   "execution_count": 67,
   "id": "ad6b9e41-5a09-4eaf-b84b-c8aa840f8019",
   "metadata": {},
   "outputs": [],
   "source": [
    "lista=[\"a\", \"b\", \"b\", \"d\"]"
   ]
  },
  {
   "cell_type": "code",
   "execution_count": 68,
   "id": "f2ba6d9c-0816-454d-bd18-f44a58229724",
   "metadata": {},
   "outputs": [
    {
     "name": "stdout",
     "output_type": "stream",
     "text": [
      "['a', 'b', 'b', 'd']\n"
     ]
    }
   ],
   "source": [
    "print(lista)"
   ]
  },
  {
   "cell_type": "code",
   "execution_count": 69,
   "id": "3b6b3cc1-61e7-4c5f-8658-5021b075b629",
   "metadata": {},
   "outputs": [
    {
     "name": "stdout",
     "output_type": "stream",
     "text": [
      "2\n"
     ]
    }
   ],
   "source": [
    "print(lista.count('b'))"
   ]
  },
  {
   "cell_type": "code",
   "execution_count": 70,
   "id": "9a85d862-8069-46ea-aa7d-dfc696341395",
   "metadata": {},
   "outputs": [],
   "source": [
    "lista=[1,2,8,5,3,10]"
   ]
  },
  {
   "cell_type": "code",
   "execution_count": 73,
   "id": "6ea92d03-43d9-4ad7-af12-24845dcd650f",
   "metadata": {},
   "outputs": [],
   "source": [
    "lista.sort()"
   ]
  },
  {
   "cell_type": "code",
   "execution_count": 74,
   "id": "1dfb32fb-2852-4669-9a77-f5df2ce43bd5",
   "metadata": {},
   "outputs": [
    {
     "name": "stdout",
     "output_type": "stream",
     "text": [
      "[1, 2, 3, 5, 8, 10]\n"
     ]
    }
   ],
   "source": [
    "print(lista)"
   ]
  },
  {
   "cell_type": "code",
   "execution_count": 76,
   "id": "043ca3f6-c36b-4166-9f24-46009b88f4a5",
   "metadata": {},
   "outputs": [
    {
     "name": "stdout",
     "output_type": "stream",
     "text": [
      "None\n"
     ]
    }
   ],
   "source": [
    "print(lista.sort())"
   ]
  },
  {
   "cell_type": "code",
   "execution_count": 77,
   "id": "f892762e-d79d-4704-bcc0-e14451444473",
   "metadata": {},
   "outputs": [
    {
     "name": "stdout",
     "output_type": "stream",
     "text": [
      "[1, 2, 3, 5, 8, 10]\n"
     ]
    }
   ],
   "source": [
    "print(lista)"
   ]
  },
  {
   "cell_type": "code",
   "execution_count": 78,
   "id": "63922e58-18e8-4ac0-8ca5-573d485eb0a0",
   "metadata": {},
   "outputs": [],
   "source": [
    "lista.sort(reverse=True)"
   ]
  },
  {
   "cell_type": "code",
   "execution_count": 79,
   "id": "214064cb-c7ba-4b20-aefd-6bcccf94caf9",
   "metadata": {},
   "outputs": [
    {
     "name": "stdout",
     "output_type": "stream",
     "text": [
      "[10, 8, 5, 3, 2, 1]\n"
     ]
    }
   ],
   "source": [
    "print(lista)"
   ]
  },
  {
   "cell_type": "code",
   "execution_count": null,
   "id": "09cb5f4e-6b15-401a-a464-1a350a24964d",
   "metadata": {},
   "outputs": [],
   "source": []
  }
 ],
 "metadata": {
  "kernelspec": {
   "display_name": "Python 3 (ipykernel)",
   "language": "python",
   "name": "python3"
  },
  "language_info": {
   "codemirror_mode": {
    "name": "ipython",
    "version": 3
   },
   "file_extension": ".py",
   "mimetype": "text/x-python",
   "name": "python",
   "nbconvert_exporter": "python",
   "pygments_lexer": "ipython3",
   "version": "3.10.12"
  }
 },
 "nbformat": 4,
 "nbformat_minor": 5
}
