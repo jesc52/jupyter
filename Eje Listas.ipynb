{
 "cells": [
  {
   "cell_type": "markdown",
   "id": "3854813c-5f0b-40e9-b177-8995cba1d694",
   "metadata": {},
   "source": [
    "#### Ejercicio: Trabajando con Listas\n",
    "\n",
    "1.Crea una lista llamada meses que contenga los nombres de todos los meses del año.\n",
    "2.Utiliza el método append para añadir un elemento extra en la lista que sea \"Fin de año\".\n",
    "3.Utiliza el método remove para eliminar este último elemento que has añadido.\n",
    "4.Usando slicing, crea una nueva lista que contenga solo los meses del segundo trimestre (abril, mayo y junio).\n",
    "5.Usa el método reverse para invertir el orden de los elementos en la lista original de meses.\n",
    "6.Encuentra el método apropiado para ordenar la lista de meses en orden alfabético y aplícalo.\n",
    "7.Utiliza el método index para encontrar la posición de tu mes de nacimiento en la lista ordenada alfabéticamente.\n",
    "Extra:\n",
    "\n",
    "Crea una lista de listas, donde cada sublista contenga los meses de cada trimestre.\n",
    "Utiliza un bucle for para imprimir cada mes de cada trimestre, formateando la salida de la siguiente manera: \"El {número de mes}° mes del año es {nombre del mes}\".\n",
    "Recuerda revisar la documentación de Python o usar la función help() para obtener detalles sobre cómo usar cada uno de los métodos de la lista.\n",
    "\n"
   ]
  },
  {
   "cell_type": "code",
   "execution_count": 59,
   "id": "37e1f90a-eb2a-4211-a526-ceead95eb21f",
   "metadata": {},
   "outputs": [],
   "source": [
    "meses=[\"enero\", \"febrero\",\"marzo\",\"abril\",\"mayo\", \"junio\",\"julio\",\"agosto\",\"septiembre\", \"octubre\", \"noviembre\",\"diciembre\"]"
   ]
  },
  {
   "cell_type": "code",
   "execution_count": 60,
   "id": "d1b99fee-0f1f-45cf-84ca-205970a740af",
   "metadata": {},
   "outputs": [],
   "source": [
    "meses.append(\"Fin de año\")"
   ]
  },
  {
   "cell_type": "code",
   "execution_count": 61,
   "id": "06db78a9-5bee-4554-a82d-4ac5b6207776",
   "metadata": {},
   "outputs": [
    {
     "name": "stdout",
     "output_type": "stream",
     "text": [
      "['enero', 'febrero', 'marzo', 'abril', 'mayo', 'junio', 'julio', 'agosto', 'septiembre', 'octubre', 'noviembre', 'diciembre', 'Fin de año']\n"
     ]
    }
   ],
   "source": [
    "print(meses)"
   ]
  },
  {
   "cell_type": "code",
   "execution_count": 62,
   "id": "972a4f42-3a7d-4366-8270-a121187ed43d",
   "metadata": {},
   "outputs": [],
   "source": [
    "meses.remove(\"Fin de año\")"
   ]
  },
  {
   "cell_type": "code",
   "execution_count": 63,
   "id": "42bc84ff-5818-4775-a55f-eb8c932af4d7",
   "metadata": {},
   "outputs": [
    {
     "name": "stdout",
     "output_type": "stream",
     "text": [
      "['enero', 'febrero', 'marzo', 'abril', 'mayo', 'junio', 'julio', 'agosto', 'septiembre', 'octubre', 'noviembre', 'diciembre']\n"
     ]
    }
   ],
   "source": [
    "print(meses)"
   ]
  },
  {
   "cell_type": "code",
   "execution_count": 64,
   "id": "3f8909a1-e06f-4ead-8033-1ecefe7be56e",
   "metadata": {},
   "outputs": [],
   "source": [
    "meses2=meses.copy()"
   ]
  },
  {
   "cell_type": "code",
   "execution_count": 65,
   "id": "6ce70cc1-c122-4197-8ada-2355e03293a7",
   "metadata": {},
   "outputs": [
    {
     "name": "stdout",
     "output_type": "stream",
     "text": [
      "['abril', 'mayo', 'junio']\n"
     ]
    }
   ],
   "source": [
    "print(meses2[3:6:1])"
   ]
  },
  {
   "cell_type": "code",
   "execution_count": 66,
   "id": "b01aef92-5965-406f-925a-d3c2244b52de",
   "metadata": {},
   "outputs": [
    {
     "name": "stdout",
     "output_type": "stream",
     "text": [
      "['enero', 'febrero', 'marzo', 'abril', 'mayo', 'junio', 'julio', 'agosto', 'septiembre', 'octubre', 'noviembre', 'diciembre']\n"
     ]
    }
   ],
   "source": [
    "print(meses)"
   ]
  },
  {
   "cell_type": "code",
   "execution_count": 45,
   "id": "ab852769-f3a9-4d53-91dc-8d5bdeb9e016",
   "metadata": {},
   "outputs": [
    {
     "data": {
      "text/plain": [
       "['diciembre',\n",
       " 'noviembre',\n",
       " 'octubre',\n",
       " 'septiembre',\n",
       " 'agosto',\n",
       " 'julio',\n",
       " 'junio',\n",
       " 'mayo',\n",
       " 'abril',\n",
       " 'marzo',\n",
       " 'febrero',\n",
       " 'enero']"
      ]
     },
     "execution_count": 45,
     "metadata": {},
     "output_type": "execute_result"
    }
   ],
   "source": [
    "meses[::-1]"
   ]
  },
  {
   "cell_type": "code",
   "execution_count": 67,
   "id": "15bb25f8-38ee-47f5-a2df-408320c98720",
   "metadata": {},
   "outputs": [],
   "source": [
    "meses.sort()"
   ]
  },
  {
   "cell_type": "code",
   "execution_count": 68,
   "id": "2cc8f6d7-131b-4b3f-8678-1e571886869e",
   "metadata": {},
   "outputs": [
    {
     "name": "stdout",
     "output_type": "stream",
     "text": [
      "['abril', 'agosto', 'diciembre', 'enero', 'febrero', 'julio', 'junio', 'marzo', 'mayo', 'noviembre', 'octubre', 'septiembre']\n"
     ]
    }
   ],
   "source": [
    "print(meses)"
   ]
  },
  {
   "cell_type": "code",
   "execution_count": 70,
   "id": "22ec32cb-d18f-4672-822e-08a91bd90aca",
   "metadata": {},
   "outputs": [
    {
     "name": "stdout",
     "output_type": "stream",
     "text": [
      "['abril', 'agosto', 'diciembre', 'enero', 'febrero', 'julio', 'junio', 'marzo', 'mayo', 'noviembre', 'octubre', 'septiembre']\n"
     ]
    }
   ],
   "source": [
    "print(meses)"
   ]
  },
  {
   "cell_type": "code",
   "execution_count": 71,
   "id": "18e26c20-4a2a-4435-a2ac-57da9852ff68",
   "metadata": {},
   "outputs": [
    {
     "name": "stdout",
     "output_type": "stream",
     "text": [
      "['enero', 'febrero', 'marzo', 'abril', 'mayo', 'junio', 'julio', 'agosto', 'septiembre', 'octubre', 'noviembre', 'diciembre']\n"
     ]
    }
   ],
   "source": [
    "print(meses2)"
   ]
  },
  {
   "cell_type": "code",
   "execution_count": 74,
   "id": "121f374a-d64e-48f7-b18c-9a19a365d101",
   "metadata": {},
   "outputs": [],
   "source": [
    "trimestre1=[meses2[0:3:1]]"
   ]
  },
  {
   "cell_type": "code",
   "execution_count": 75,
   "id": "7e15b1c3-38a6-4f88-ae12-147a3ff1a780",
   "metadata": {},
   "outputs": [
    {
     "name": "stdout",
     "output_type": "stream",
     "text": [
      "[['enero', 'febrero', 'marzo']]\n"
     ]
    }
   ],
   "source": [
    "print(trimestre1)"
   ]
  },
  {
   "cell_type": "code",
   "execution_count": 83,
   "id": "a4223556-9c00-4a51-a53a-a3368e4577e5",
   "metadata": {},
   "outputs": [],
   "source": [
    "trimestre2=[meses2[3:6:1]]"
   ]
  },
  {
   "cell_type": "code",
   "execution_count": 84,
   "id": "ab70c716-477b-4022-8621-83c4ca43bc58",
   "metadata": {},
   "outputs": [
    {
     "name": "stdout",
     "output_type": "stream",
     "text": [
      "[['abril', 'mayo', 'junio']]\n"
     ]
    }
   ],
   "source": [
    "print(trimestre2)"
   ]
  },
  {
   "cell_type": "code",
   "execution_count": 87,
   "id": "60c0f30b-3f42-4c2a-997d-2d5b45fefd03",
   "metadata": {},
   "outputs": [],
   "source": [
    "trimestre3=[meses2[6:9:1]]"
   ]
  },
  {
   "cell_type": "code",
   "execution_count": 88,
   "id": "2e0f9652-bae9-4e1f-9c1b-f3e1645402a5",
   "metadata": {},
   "outputs": [
    {
     "name": "stdout",
     "output_type": "stream",
     "text": [
      "[['julio', 'agosto', 'septiembre']]\n"
     ]
    }
   ],
   "source": [
    "print(trimestre3)"
   ]
  },
  {
   "cell_type": "code",
   "execution_count": 89,
   "id": "8bedd917-000d-4c65-8ad3-abec2d0fa2a8",
   "metadata": {},
   "outputs": [],
   "source": [
    "trimestre4=[meses2[9:13:1]]"
   ]
  },
  {
   "cell_type": "code",
   "execution_count": 90,
   "id": "7492baee-0a58-475f-b400-859d9a43fc60",
   "metadata": {},
   "outputs": [
    {
     "name": "stdout",
     "output_type": "stream",
     "text": [
      "[['octubre', 'noviembre', 'diciembre']]\n"
     ]
    }
   ],
   "source": [
    "print(trimestre4)"
   ]
  },
  {
   "cell_type": "code",
   "execution_count": 95,
   "id": "5fabb69b-ca94-4ca4-8cd5-7ac01d936cef",
   "metadata": {},
   "outputs": [
    {
     "name": "stdout",
     "output_type": "stream",
     "text": [
      "['enero', 'febrero', 'marzo', 'abril', 'mayo', 'junio', 'julio', 'agosto', 'septiembre', 'octubre', 'noviembre', 'diciembre']\n"
     ]
    }
   ],
   "source": [
    "print(meses2)"
   ]
  },
  {
   "cell_type": "code",
   "execution_count": 96,
   "id": "70ebc218-9359-4501-9a2b-46b4c33f834d",
   "metadata": {},
   "outputs": [
    {
     "name": "stdout",
     "output_type": "stream",
     "text": [
      "enero\n",
      "febrero\n",
      "marzo\n",
      "abril\n",
      "mayo\n",
      "junio\n",
      "julio\n",
      "agosto\n",
      "septiembre\n",
      "octubre\n",
      "noviembre\n",
      "diciembre\n"
     ]
    }
   ],
   "source": [
    "for i in range(0, len(meses2)):\n",
    "    print(meses2[i])"
   ]
  },
  {
   "cell_type": "code",
   "execution_count": 97,
   "id": "59f67e0f-e4f2-42c3-8e53-2bef666626ba",
   "metadata": {},
   "outputs": [],
   "source": [
    "Trimestres=[trimestre1],[trimestre2],[trimestre3],[trimestre4]"
   ]
  },
  {
   "cell_type": "code",
   "execution_count": 98,
   "id": "2c226158-155d-4e5b-9097-51b4df9e70ba",
   "metadata": {},
   "outputs": [
    {
     "name": "stdout",
     "output_type": "stream",
     "text": [
      "([[['enero', 'febrero', 'marzo']]], [[['abril', 'mayo', 'junio']]], [[['julio', 'agosto', 'septiembre']]], [[['octubre', 'noviembre', 'diciembre']]])\n"
     ]
    }
   ],
   "source": [
    "print(Trimestres)"
   ]
  },
  {
   "cell_type": "code",
   "execution_count": 99,
   "id": "3531dba3-3688-463f-91f8-b0d92624237d",
   "metadata": {},
   "outputs": [
    {
     "name": "stdout",
     "output_type": "stream",
     "text": [
      "[[['enero', 'febrero', 'marzo']]]\n",
      "[[['abril', 'mayo', 'junio']]]\n",
      "[[['julio', 'agosto', 'septiembre']]]\n",
      "[[['octubre', 'noviembre', 'diciembre']]]\n"
     ]
    }
   ],
   "source": [
    "for i in range(0, len(Trimestres)):\n",
    "    print(Trimestres[i])"
   ]
  },
  {
   "cell_type": "code",
   "execution_count": 101,
   "id": "f8542531-f88f-45f0-a2fd-ab721bff293a",
   "metadata": {},
   "outputs": [
    {
     "name": "stdout",
     "output_type": "stream",
     "text": [
      "El 1° mes del año es enero\n",
      "El 2° mes del año es febrero\n",
      "El 3° mes del año es marzo\n",
      "El 4° mes del año es abril\n",
      "El 5° mes del año es mayo\n",
      "El 6° mes del año es junio\n",
      "El 7° mes del año es julio\n",
      "El 8° mes del año es agosto\n",
      "El 9° mes del año es septiembre\n",
      "El 10° mes del año es octubre\n",
      "El 11° mes del año es noviembre\n",
      "El 12° mes del año es diciembre\n"
     ]
    }
   ],
   "source": [
    "for i in range(0, len(Trimestre)):\n",
    "    for j in range(0, len(Trimestre[i])):\n",
    "        print(\"El {}° mes del año es {}\".format(i*3+j+1,Trimestre[i][j]))"
   ]
  },
  {
   "cell_type": "code",
   "execution_count": 102,
   "id": "a6b33862-ec02-42f6-bf78-917604b20fb9",
   "metadata": {},
   "outputs": [],
   "source": [
    "x=[1,2,3]"
   ]
  },
  {
   "cell_type": "code",
   "execution_count": 103,
   "id": "aa13f3fa-f81c-4c4c-90aa-c3440e4e4e81",
   "metadata": {},
   "outputs": [],
   "source": [
    "y=(1,2,3)"
   ]
  },
  {
   "cell_type": "code",
   "execution_count": 104,
   "id": "81106349-5fd4-48ea-b6e6-cdfddd7ddcb0",
   "metadata": {},
   "outputs": [],
   "source": [
    "z={1,2,3}"
   ]
  },
  {
   "cell_type": "code",
   "execution_count": 105,
   "id": "cd6e31d3-d051-460f-acef-1ba817c3457c",
   "metadata": {},
   "outputs": [
    {
     "data": {
      "text/plain": [
       "list"
      ]
     },
     "execution_count": 105,
     "metadata": {},
     "output_type": "execute_result"
    }
   ],
   "source": [
    "type(x)"
   ]
  },
  {
   "cell_type": "code",
   "execution_count": 106,
   "id": "78aeb485-2602-41de-89f1-4fcbe5999ef4",
   "metadata": {},
   "outputs": [
    {
     "data": {
      "text/plain": [
       "tuple"
      ]
     },
     "execution_count": 106,
     "metadata": {},
     "output_type": "execute_result"
    }
   ],
   "source": [
    "type(y)"
   ]
  },
  {
   "cell_type": "code",
   "execution_count": 107,
   "id": "843f9862-a9f2-410c-9938-59e4aaf5dd6d",
   "metadata": {},
   "outputs": [
    {
     "data": {
      "text/plain": [
       "set"
      ]
     },
     "execution_count": 107,
     "metadata": {},
     "output_type": "execute_result"
    }
   ],
   "source": [
    "type(z)"
   ]
  },
  {
   "cell_type": "code",
   "execution_count": 109,
   "id": "c30f84c0-63e0-4341-81c9-a46572d8e6cc",
   "metadata": {},
   "outputs": [],
   "source": [
    "x={1,2,3,4}"
   ]
  },
  {
   "cell_type": "code",
   "execution_count": 110,
   "id": "e9f1f119-f7fe-437a-91ff-a888b0a4bbd7",
   "metadata": {},
   "outputs": [],
   "source": [
    "y={2,3,4,6}"
   ]
  },
  {
   "cell_type": "code",
   "execution_count": 111,
   "id": "29bb20cb-ab3f-42ca-9262-1539beebabdd",
   "metadata": {},
   "outputs": [],
   "source": [
    "union = x | y"
   ]
  },
  {
   "cell_type": "code",
   "execution_count": 112,
   "id": "36fbba8b-de2f-4658-9f4c-66cf9b22e71b",
   "metadata": {},
   "outputs": [
    {
     "name": "stdout",
     "output_type": "stream",
     "text": [
      "{1, 2, 3, 4, 6}\n"
     ]
    }
   ],
   "source": [
    "print(union)"
   ]
  },
  {
   "cell_type": "code",
   "execution_count": 113,
   "id": "0597958a-46de-4cd5-965e-cb7c60c4b490",
   "metadata": {},
   "outputs": [],
   "source": [
    "intersection = x&y"
   ]
  },
  {
   "cell_type": "code",
   "execution_count": 114,
   "id": "54c79adc-c680-4744-8721-46284c1e7de9",
   "metadata": {},
   "outputs": [
    {
     "name": "stdout",
     "output_type": "stream",
     "text": [
      "{2, 3, 4}\n"
     ]
    }
   ],
   "source": [
    "print(intersection)"
   ]
  },
  {
   "cell_type": "code",
   "execution_count": 115,
   "id": "1730867b-b212-471b-a41e-4df4f48952f8",
   "metadata": {},
   "outputs": [
    {
     "name": "stdout",
     "output_type": "stream",
     "text": [
      "{1, 2, 3}\n"
     ]
    }
   ],
   "source": [
    "mi_conjunto = {1, 2, 3}\n",
    "mi_conjunto.discard(4)\n",
    "print(mi_conjunto)"
   ]
  },
  {
   "cell_type": "code",
   "execution_count": 118,
   "id": "1d3173ec-3719-4550-8f76-8159608e68b6",
   "metadata": {},
   "outputs": [
    {
     "name": "stdout",
     "output_type": "stream",
     "text": [
      "c\n"
     ]
    }
   ],
   "source": [
    "mi_conjunto = {\"a\", \"b\", \"c\"}\n",
    "elemento = mi_conjunto.pop()\n",
    "print(elemento)"
   ]
  },
  {
   "cell_type": "code",
   "execution_count": 119,
   "id": "381cfcd6-3250-4009-a489-43d5677c4001",
   "metadata": {},
   "outputs": [
    {
     "name": "stdout",
     "output_type": "stream",
     "text": [
      "True\n"
     ]
    }
   ],
   "source": [
    "\n",
    "conjunto1 = {1, 2, 3, 4}\n",
    "conjunto2 = {1, 2}\n",
    "es_superconjunto = conjunto1.issuperset(conjunto2)\n",
    "print(es_superconjunto)  # Salida: True"
   ]
  },
  {
   "cell_type": "code",
   "execution_count": 120,
   "id": "be7247c9-964e-40bd-85a9-113811fe6616",
   "metadata": {},
   "outputs": [
    {
     "data": {
      "text/plain": [
       "True"
      ]
     },
     "execution_count": 120,
     "metadata": {},
     "output_type": "execute_result"
    }
   ],
   "source": [
    "es_superconjunto"
   ]
  },
  {
   "cell_type": "code",
   "execution_count": 121,
   "id": "32194988-e23d-4311-adab-dedffa26dba8",
   "metadata": {},
   "outputs": [
    {
     "name": "stdout",
     "output_type": "stream",
     "text": [
      "True\n"
     ]
    }
   ],
   "source": [
    "conjunto1 = {1, 2}\n",
    "conjunto2 = {1, 2, 3, 4}\n",
    "es_subconjunto = conjunto1.issubset(conjunto2)\n",
    "print(es_subconjunto)"
   ]
  },
  {
   "cell_type": "code",
   "execution_count": null,
   "id": "726483bb-0232-46be-a913-3f9a09fdba6b",
   "metadata": {},
   "outputs": [],
   "source": []
  }
 ],
 "metadata": {
  "kernelspec": {
   "display_name": "Python 3 (ipykernel)",
   "language": "python",
   "name": "python3"
  },
  "language_info": {
   "codemirror_mode": {
    "name": "ipython",
    "version": 3
   },
   "file_extension": ".py",
   "mimetype": "text/x-python",
   "name": "python",
   "nbconvert_exporter": "python",
   "pygments_lexer": "ipython3",
   "version": "3.10.12"
  }
 },
 "nbformat": 4,
 "nbformat_minor": 5
}
