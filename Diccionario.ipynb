{
 "cells": [
  {
   "cell_type": "code",
   "execution_count": 1,
   "id": "02be20c1-2146-4c2a-a4b5-519c6d43fd62",
   "metadata": {},
   "outputs": [
    {
     "data": {
      "text/plain": [
       "{'nombre': 'Juan',\n",
       " 'edad': 22,\n",
       " 'asignaturas': ['Matemáticas', 'Ciencias', 'Lengua']}"
      ]
     },
     "execution_count": 1,
     "metadata": {},
     "output_type": "execute_result"
    }
   ],
   "source": [
    "# Creación de un diccionario\n",
    "informacion_estudiante = {\n",
    "    \"nombre\": \"Juan\",\n",
    "    \"edad\": 22,\n",
    "    \"asignaturas\": [\"Matemáticas\", \"Ciencias\", \"Lengua\"],\n",
    "}\n",
    "informacion_estudiante"
   ]
  },
  {
   "cell_type": "code",
   "execution_count": 3,
   "id": "f2080f69-6eff-4264-bbda-458022f13309",
   "metadata": {},
   "outputs": [
    {
     "name": "stdout",
     "output_type": "stream",
     "text": [
      "Juan\n",
      "['Matemáticas', 'Ciencias', 'Lengua']\n"
     ]
    }
   ],
   "source": [
    "# Accediendo a elementos en el diccionario\n",
    "print(informacion_estudiante[\"nombre\"])\n",
    "print(informacion_estudiante[\"asignaturas\"])"
   ]
  },
  {
   "cell_type": "code",
   "execution_count": 4,
   "id": "0f2f5d6f-7daa-4ff5-8b24-0467ae2c11bc",
   "metadata": {},
   "outputs": [
    {
     "data": {
      "text/plain": [
       "{'nombre': 'Juan',\n",
       " 'edad': 23,\n",
       " 'asignaturas': ['Matemáticas', 'Ciencias', 'Lengua']}"
      ]
     },
     "execution_count": 4,
     "metadata": {},
     "output_type": "execute_result"
    }
   ],
   "source": [
    "# Modificando un valor en el diccionario\n",
    "informacion_estudiante[\"edad\"] = 23\n",
    "informacion_estudiante"
   ]
  },
  {
   "cell_type": "code",
   "execution_count": 5,
   "id": "46521624-03fd-4d38-9a14-0fc08dbf1913",
   "metadata": {},
   "outputs": [
    {
     "data": {
      "text/plain": [
       "{'nombre': 'Juan',\n",
       " 'edad': 23,\n",
       " 'asignaturas': ['Matemáticas', 'Ciencias', 'Lengua'],\n",
       " 'graduacion': 2023}"
      ]
     },
     "execution_count": 5,
     "metadata": {},
     "output_type": "execute_result"
    }
   ],
   "source": [
    "# Añadiendo un nuevo par clave-valor al diccionario\n",
    "informacion_estudiante[\"graduacion\"] = 2023\n",
    "informacion_estudiante"
   ]
  },
  {
   "cell_type": "code",
   "execution_count": 6,
   "id": "db11223d-78ce-4151-bddf-5dfb6a59d2cb",
   "metadata": {},
   "outputs": [
    {
     "data": {
      "text/plain": [
       "{'nombre': 'Juan', 'edad': 23, 'graduacion': 2023}"
      ]
     },
     "execution_count": 6,
     "metadata": {},
     "output_type": "execute_result"
    }
   ],
   "source": [
    "# Eliminando un par clave-valor del diccionario\n",
    "del informacion_estudiante[\"asignaturas\"]\n",
    "informacion_estudiante"
   ]
  },
  {
   "cell_type": "code",
   "execution_count": 7,
   "id": "7821e012-e619-4733-8941-15c66f4aeecc",
   "metadata": {},
   "outputs": [
    {
     "name": "stdout",
     "output_type": "stream",
     "text": [
      "Ana\n"
     ]
    }
   ],
   "source": [
    "diccionario = {'nombre': 'Ana', 'edad': 25}\n",
    "valor = diccionario.get('nombre')\n",
    "print(valor)"
   ]
  },
  {
   "cell_type": "code",
   "execution_count": 8,
   "id": "b1b1cd72-5c9d-47f1-80a2-7287548e345f",
   "metadata": {},
   "outputs": [
    {
     "name": "stdout",
     "output_type": "stream",
     "text": [
      "dict_keys(['nombre', 'edad'])\n"
     ]
    }
   ],
   "source": [
    "diccionario = {'nombre': 'Ana', 'edad': 25}\n",
    "claves = diccionario.keys()\n",
    "print(claves)"
   ]
  },
  {
   "cell_type": "code",
   "execution_count": 9,
   "id": "f0591f42-f8e9-46fa-90f0-b12bb691fd53",
   "metadata": {},
   "outputs": [
    {
     "name": "stdout",
     "output_type": "stream",
     "text": [
      "dict_values(['Ana', 25])\n"
     ]
    }
   ],
   "source": [
    "diccionario = {'nombre': 'Ana', 'edad': 25}\n",
    "valores = diccionario.values()\n",
    "print(valores)"
   ]
  },
  {
   "cell_type": "code",
   "execution_count": 10,
   "id": "72c22a08-07a9-4201-8a55-f84ce12e2758",
   "metadata": {},
   "outputs": [
    {
     "name": "stdout",
     "output_type": "stream",
     "text": [
      "dict_items([('nombre', 'Ana'), ('edad', 25)])\n"
     ]
    }
   ],
   "source": [
    "diccionario = {'nombre': 'Ana', 'edad': 25}\n",
    "items = diccionario.items()\n",
    "print(items)"
   ]
  },
  {
   "cell_type": "code",
   "execution_count": 11,
   "id": "30f8eec1-6640-40f7-9f85-84247be22509",
   "metadata": {},
   "outputs": [
    {
     "name": "stdout",
     "output_type": "stream",
     "text": [
      "{'nombre': 'Ana', 'edad': 26}\n"
     ]
    }
   ],
   "source": [
    "diccionario = {'nombre': 'Ana', 'edad': 25}\n",
    "diccionario.update({'edad': 26})\n",
    "print(diccionario)"
   ]
  },
  {
   "cell_type": "code",
   "execution_count": null,
   "id": "699ccd84-b1fb-4bbd-b52e-7ec175779bc5",
   "metadata": {},
   "outputs": [],
   "source": []
  }
 ],
 "metadata": {
  "kernelspec": {
   "display_name": "Python 3 (ipykernel)",
   "language": "python",
   "name": "python3"
  },
  "language_info": {
   "codemirror_mode": {
    "name": "ipython",
    "version": 3
   },
   "file_extension": ".py",
   "mimetype": "text/x-python",
   "name": "python",
   "nbconvert_exporter": "python",
   "pygments_lexer": "ipython3",
   "version": "3.10.12"
  }
 },
 "nbformat": 4,
 "nbformat_minor": 5
}
